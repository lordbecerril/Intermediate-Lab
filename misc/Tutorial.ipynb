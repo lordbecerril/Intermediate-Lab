{
 "cells": [
  {
   "cell_type": "markdown",
   "metadata": {},
   "source": [
    "### Hello Omar, here is a little tutorial on jupyter notebook that I hope will help.\n",
    "Some good links can be found here:\n",
    "\n",
    "General python documentation: https://docs.python.org/3/\n",
    "Python Graphing Examples: https://matplotlib.org/gallery/index.html"
   ]
  },
  {
   "cell_type": "markdown",
   "metadata": {},
   "source": [
    "Lets get started. So in python notebooks we have what are called cells. Cells can be converted to Markdown, or code. Lets just focus on the code aspect. Each of these cells can be ran individually."
   ]
  },
  {
   "cell_type": "code",
   "execution_count": 8,
   "metadata": {},
   "outputs": [],
   "source": [
    "# <----- this symbol means comment. This does nothing to the code. So you can run this cell and nothing will happen at all"
   ]
  },
  {
   "cell_type": "code",
   "execution_count": 9,
   "metadata": {},
   "outputs": [
    {
     "name": "stdout",
     "output_type": "stream",
     "text": [
      "9\n",
      "See, it is this easy :)\n"
     ]
    }
   ],
   "source": [
    "# Lets talk about some computer science. There is something called Syntax and Semantics.\n",
    "\n",
    "# Syntax is the symbols of the language. In this case the language we are using is Python\n",
    "\n",
    "# Semantics is the rules of the language. Lets look at some. \n",
    "\n",
    "# Variables... Just like in math we can have variables. for example we can set a variable x = 4. \n",
    "\n",
    "# in python the left hand side is the variable declaration. think of the the equal sign '=' as 'gets' not 'equals'\n",
    "\n",
    "x = 4 # Here we set a variable x. Note that x is on the LHS\n",
    "\n",
    "y = 5 # Let us set another one called y\n",
    "\n",
    "z = x + y # now let us declare a z and set it to x + y\n",
    "\n",
    "# In order to see the output of something we must use the print(). Let's use it\n",
    "print(z)\n",
    "# Running this, shows the output of z. To print random characters we have to use quoatation marks, Lets see\n",
    "print(\"See, it is this easy :)\")"
   ]
  },
  {
   "cell_type": "code",
   "execution_count": 10,
   "metadata": {},
   "outputs": [],
   "source": [
    "# Alright, now lets talk about some syntax\n",
    "\n",
    "# There are integers which we call ints : ...,-2, -1, 0 , 1, 2, ....\n",
    "z = 3\n",
    "\n",
    "# There a doubles which are just real numbers"
   ]
  },
  {
   "cell_type": "code",
   "execution_count": 11,
   "metadata": {},
   "outputs": [],
   "source": [
    "# Now that the basics are out of the way, lets get started on what we are mainly going to be working on in this class"
   ]
  },
  {
   "cell_type": "code",
   "execution_count": 13,
   "metadata": {},
   "outputs": [
    {
     "data": {
      "image/png": "[encoded data removed]",
      "text/plain": [
       "<Figure size 432x288 with 1 Axes>"
      ]
     },
     "metadata": {
      "needs_background": "light"
     },
     "output_type": "display_data"
    }
   ],
   "source": [
    "# First we have to import bargraph libraries. so Matplot lib. You do that with the following line:\n",
    "import matplotlib.pyplot as plt\n",
    "\n",
    "# We now have matplotlib working from this cell forward\n",
    "\n",
    "fig = plt.figure() # This line is needed to create a figure \n",
    "\n",
    "ax = fig.add_axes([0,0,1,1]) # This makes a 2d bar graph\n",
    "\n",
    "x_axis = ['0','1','2','3','4','5','6','7','8','9','10','11'] # here we have our x\n",
    "\n",
    "y_axis = [6,10,38,36,42,25,20,16,4,1,1,1]\n",
    "\n",
    "ax.bar(x_axis,y_axis)\n",
    "\n",
    "plt.show()"
   ]
  },
  {
   "cell_type": "code",
   "execution_count": null,
   "metadata": {},
   "outputs": [],
   "source": []
  }
 ],
 "metadata": {
  "kernelspec": {
   "display_name": "Python 3",
   "language": "python",
   "name": "python3"
  },
  "language_info": {
   "codemirror_mode": {
    "name": "ipython",
    "version": 3
   },
   "file_extension": ".py",
   "mimetype": "text/x-python",
   "name": "python",
   "nbconvert_exporter": "python",
   "pygments_lexer": "ipython3",
   "version": "3.7.3"
  }
 },
 "nbformat": 4,
 "nbformat_minor": 2
}
