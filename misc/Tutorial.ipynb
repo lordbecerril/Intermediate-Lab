{
 "cells": [
  {
   "cell_type": "markdown",
   "metadata": {},
   "source": [
    "### Hello Omar, here is a little tutorial on jupyter notebook that I hope will help.\n",
    "Some good links can be found here:\n",
    "\n",
    "General python documentation: https://docs.python.org/3/\n",
    "Python Graphing Examples: https://matplotlib.org/gallery/index.html\n",
    "Python Language Reference: https://docs.python.org/3/reference/index.html"
   ]
  },
  {
   "cell_type": "markdown",
   "metadata": {},
   "source": [
    "Lets get started. So in python notebooks we have what are called cells. Cells can be converted to Markdown, or code. Lets just focus on the code aspect. Each of these cells can be ran individually."
   ]
  },
  {
   "cell_type": "markdown",
   "metadata": {},
   "source": []
  },
  {
   "cell_type": "code",
   "execution_count": 92,
   "metadata": {},
   "outputs": [],
   "source": [
    "# <----- this symbol means comment. This does nothing to the code. So you can run this cell and nothing will happen at all"
   ]
  },
  {
   "cell_type": "code",
   "execution_count": 93,
   "metadata": {},
   "outputs": [
    {
     "name": "stdout",
     "output_type": "stream",
     "text": [
      "9\n",
      "See, it is this easy :)\n"
     ]
    }
   ],
   "source": [
    "# Lets talk about some computer science. There is something called Syntax and Semantics.\n",
    "\n",
    "# Syntax is the symbols of the language. In this case the language we are using is Python\n",
    "\n",
    "# Semantics is the rules of the language. Lets look at some. \n",
    "\n",
    "# Variables... Just like in math we can have variables. for example we can set a variable x = 4. \n",
    "\n",
    "# in python the left hand side is the variable declaration. think of the the equal sign '=' as 'gets' not 'equals'\n",
    "\n",
    "x = 4 # Here we set a variable x. Note that x is on the LHS\n",
    "\n",
    "y = 5 # Let us set another one called y\n",
    "\n",
    "z = x + y # now let us declare a z and set it to x + y\n",
    "\n",
    "# In order to see the output of something we must use the print(). Let's use it\n",
    "print(z)\n",
    "# Running this, shows the output of z. To print random characters we have to use quoatation marks, Lets see\n",
    "print(\"See, it is this easy :)\")"
   ]
  },
  {
   "cell_type": "code",
   "execution_count": 94,
   "metadata": {},
   "outputs": [
    {
     "name": "stdout",
     "output_type": "stream",
     "text": [
      "['chihuahua', 'doggy', 'husky']\n",
      "chihuahua\n"
     ]
    }
   ],
   "source": [
    "# Alright, now lets talk about some syntax\n",
    "\n",
    "# There are integers which we call ints : ...,-2, -1, 0 , 1, 2, ....\n",
    "z = 3\n",
    "\n",
    "\n",
    "# There a doubles which are just real numbers like 2.7, 9.75875, and so on\n",
    "x = 9.858495\n",
    "\n",
    "c = 'f' # This is a character\n",
    "\n",
    "st = \"I like my dog.\" #this is a string\n",
    "\n",
    "list_of_dogs = [\"chihuahua\",\"doggy\", \"husky\"] # this is a list of strings\n",
    "print(list_of_dogs)\n",
    "\n",
    "#Lists start from 0\n",
    "print(list_of_dogs[0])"
   ]
  },
  {
   "cell_type": "code",
   "execution_count": 95,
   "metadata": {},
   "outputs": [],
   "source": [
    "# Now that the basics are out of the way, lets get started on what we are mainly going to be working on in this class"
   ]
  },
  {
   "cell_type": "code",
   "execution_count": 96,
   "metadata": {},
   "outputs": [
    {
     "name": "stdout",
     "output_type": "stream",
     "text": [
      "6\n",
      "10\n",
      "38\n",
      "36\n",
      "42\n",
      "25\n",
      "20\n",
      "16\n",
      "4\n",
      "1\n",
      "1\n",
      "1\n",
      "[0, 0, 0, 0, 0, 0, 1, 1, 1, 1, 1, 1, 1, 1, 1, 1, 2, 2, 2, 2, 2, 2, 2, 2, 2, 2, 2, 2, 2, 2, 2, 2, 2, 2, 2, 2, 2, 2, 2, 2, 2, 2, 2, 2, 2, 2, 2, 2, 2, 2, 2, 2, 2, 2, 3, 3, 3, 3, 3, 3, 3, 3, 3, 3, 3, 3, 3, 3, 3, 3, 3, 3, 3, 3, 3, 3, 3, 3, 3, 3, 3, 3, 3, 3, 3, 3, 3, 3, 3, 3, 4, 4, 4, 4, 4, 4, 4, 4, 4, 4, 4, 4, 4, 4, 4, 4, 4, 4, 4, 4, 4, 4, 4, 4, 4, 4, 4, 4, 4, 4, 4, 4, 4, 4, 4, 4, 4, 4, 4, 4, 4, 4, 5, 5, 5, 5, 5, 5, 5, 5, 5, 5, 5, 5, 5, 5, 5, 5, 5, 5, 5, 5, 5, 5, 5, 5, 5, 6, 6, 6, 6, 6, 6, 6, 6, 6, 6, 6, 6, 6, 6, 6, 6, 6, 6, 6, 6, 7, 7, 7, 7, 7, 7, 7, 7, 7, 7, 7, 7, 7, 7, 7, 7, 8, 8, 8, 8, 9, 10, 11]\n",
      "200\n",
      "Mean is 3.905\n",
      "Variance is 3.995954773869347\n",
      "Standard Deviation is  1.9989884376527411\n",
      "Chi Square is Power_divergenceResult(statistic=203.63508322663256, pvalue=0.39592205215764065)\n",
      " \n",
      "[2.014095449128856, 7.8650427288481835, 15.356495928076075, 19.989038866379026, 19.51429919330252, 15.240667669969268, 9.919134541871665, 5.533460055144122, 2.701020189417224, 1.1719426488526954, 0.45764360437697765, 0.16246347955382703]\n",
      "[6.193199124952076, 7.665236495922888, 8.9112306469341, 9.730864412623395, 9.980832536699813, 9.615762481822292, 8.70166373827243, 7.396435543155193, 5.905331309091812, 4.428612382623676, 3.1195552581694623, 2.064045689972598]\n"
     ]
    },
    {
     "data": {
      "image/png": "[encoded data removed]",
      "text/plain": [
       "<Figure size 432x288 with 1 Axes>"
      ]
     },
     "metadata": {
      "needs_background": "light"
     },
     "output_type": "display_data"
    }
   ],
   "source": [
    "# First we have to import bargraph libraries. so Matplot lib. You do that with the following line:\n",
    "import matplotlib.pyplot as plt\n",
    "\n",
    "#2 ways to import things. If you want the whole library, do 'import library' However, this uses a lot of memory\n",
    "# If you only want one thing from the library, you do 'from library import thingy'\n",
    "from statistics import mean\n",
    "from statistics import variance\n",
    "from statistics import stdev\n",
    "\n",
    "# We now have matplotlib working from this cell forward\n",
    "\n",
    "fig = plt.figure() # This line is needed to create a figure \n",
    "\n",
    "ax = fig.add_axes([0,0,1,1]) # This makes a 2d bar graph\n",
    "\n",
    "ax.set_ylabel('Counts/0.1 min')\n",
    "\n",
    "ax.set_title('Counts with voltage set at 900V')\n",
    "\n",
    "\n",
    "x_axis = [0,1,2,3,4,5,6,7,8,9,10,11] # here we have what we want on our x axis\n",
    "\n",
    "y_axis = [6,10,38,36,42,25,20,16,4,1,1,1] # and here we have what we want on our y axis\n",
    "\n",
    "#ax.bar(x_axis,y_axis) # the .bar() creates the bar graph\n",
    "\n",
    "#plt.show() # finally this command, shows the plot\n",
    "\n",
    "#below we create an empty list called 'new_list'\n",
    "new_list = []\n",
    "# below we set an arbitrary variable called 'count' which is used to keep count\n",
    "count = 0\n",
    "# a for loop. this loops through the list. By saying \"for thingy in list\" you can do things to each element. The things you do are done where it is indented\n",
    "for y in y_axis:\n",
    "    #print(y) #used for test\n",
    "    for i in range(y):\n",
    "        new_list.append(x_axis[count])\n",
    "    count = count +1\n",
    "\n",
    "print(\"New list is \",new_list)\n",
    "\n",
    "print(len(new_list))\n",
    "\n",
    "\n",
    "print(\"Mean is\", mean(new_list))\n",
    "\n",
    "print(\"Variance is\", variance(new_list))\n",
    "\n",
    "print(\"Standard Deviation is \", stdev(new_list))\n",
    "\n",
    "from scipy.stats import chisquare\n",
    "\n",
    "print(\"Chi Square is\", chisquare(new_list))\n",
    "\n",
    "print(\" \")\n",
    "\n",
    "from math import factorial\n",
    "from math import exp\n",
    "\n",
    "poisson_pts = []\n",
    "\n",
    "for x in range(12):\n",
    "    y = (  (mean(new_list)**x)    *    (exp(-1*mean(new_list)))    ) / (factorial(x))\n",
    "    y = y*100\n",
    "    poisson_pts.append(y)\n",
    "print(poisson_pts)\n",
    "\n",
    "#54564563435234tegshdgfhsdfgsdfgsd\n",
    "from math import sqrt\n",
    "from math import pi\n",
    "gaussian_pts = []\n",
    "for x in range(12):\n",
    "    y = ((1) / ( (variance(new_list)  * sqrt(2 * pi) ))) * exp( (-1*(1/2))* ((x-mean(new_list))/(variance(new_list)))**2 )\n",
    "    y = y*100\n",
    "    gaussian_pts.append(y)\n",
    "print(gaussian_pts)\n",
    "\n",
    "ax.plot(x_axis,gaussian_pts, color='red',linestyle='solid')\n",
    "#sdfgsdrhsrddfdrgs\n",
    "\n",
    "ax.bar(x_axis,y_axis) # the .bar() creates the bar graph\n",
    "\n",
    "ax.plot(x_axis, poisson_pts,linestyle='solid',color='green')\n",
    "\n",
    "plt.show() # finally this command, shows the plot\n"
   ]
  },
  {
   "cell_type": "code",
   "execution_count": 97,
   "metadata": {},
   "outputs": [
    {
     "data": {
      "image/png": "[encoded data removed]",
      "text/plain": [
       "<Figure size 432x288 with 1 Axes>"
      ]
     },
     "metadata": {
      "needs_background": "light"
     },
     "output_type": "display_data"
    }
   ],
   "source": [
    "# THIS ONE IS GAUSSIAN\n",
    "import numpy as np\n",
    "from scipy.stats import norm\n",
    "import matplotlib.pyplot as plt\n",
    "\n",
    "\n",
    "# Generate some data for this demonstration.\n",
    "data = new_list\n",
    "\n",
    "# Fit a normal distribution to the data:\n",
    "mu, std = norm.fit(data)\n",
    "\n",
    "# Plot the histogram.\n",
    "plt.hist(data, bins=12, density=True, alpha=0.6, color='g')\n",
    "\n",
    "# Plot the PDF.\n",
    "xmin, xmax = plt.xlim()\n",
    "x = np.linspace(xmin, xmax, 100)\n",
    "p = norm.pdf(x, mu, std)\n",
    "plt.plot(x, p, 'k', linewidth=2)\n",
    "title = \"Fit results: mu = %.2f,  std = %.2f\" % (mu, std)\n",
    "plt.title(title)\n",
    "\n",
    "plt.show()"
   ]
  },
  {
   "cell_type": "code",
   "execution_count": null,
   "metadata": {},
   "outputs": [],
   "source": [
    "#THIS ONE IS POISSON "
   ]
  },
  {
   "cell_type": "code",
   "execution_count": null,
   "metadata": {},
   "outputs": [],
   "source": []
  },
  {
   "cell_type": "code",
   "execution_count": 104,
   "metadata": {},
   "outputs": [
    {
     "name": "stdout",
     "output_type": "stream",
     "text": [
      "2\n",
      "1\n",
      "1\n",
      "1\n",
      "5\n",
      "4\n",
      "7\n",
      "7\n",
      "7\n",
      "5\n",
      "5\n",
      "7\n",
      "9\n",
      "11\n",
      "12\n",
      "3\n",
      "14\n",
      "6\n",
      "11\n",
      "9\n",
      "7\n",
      "11\n",
      "6\n",
      "3\n",
      "1\n",
      "1\n",
      "1\n",
      "2\n",
      "[24, 24, 25, 27, 28, 30, 30, 30, 30, 30, 31, 31, 31, 31, 32, 32, 32, 32, 32, 32, 32, 33, 33, 33, 33, 33, 33, 33, 34, 34, 34, 34, 34, 34, 34, 35, 35, 35, 35, 35, 36, 36, 36, 36, 36, 37, 37, 37, 37, 37, 37, 37, 38, 38, 38, 38, 38, 38, 38, 38, 38, 39, 39, 39, 39, 39, 39, 39, 39, 39, 39, 39, 40, 40, 40, 40, 40, 40, 40, 40, 40, 40, 40, 40, 41, 41, 41, 42, 42, 42, 42, 42, 42, 42, 42, 42, 42, 42, 42, 42, 42, 43, 43, 43, 43, 43, 43, 44, 44, 44, 44, 44, 44, 44, 44, 44, 44, 44, 45, 45, 45, 45, 45, 45, 45, 45, 45, 46, 46, 46, 46, 46, 46, 46, 47, 47, 47, 47, 47, 47, 47, 47, 47, 47, 47, 48, 48, 48, 48, 48, 48, 49, 49, 49, 50, 51, 54, 55, 55]\n",
      "159\n",
      "Mean is 39.9811320754717\n",
      "Variance is 38.170527824217814\n",
      "Standard Deviation is  6.178230153063077\n",
      "Chi Square is Power_divergenceResult(statistic=150.84473808400188, pvalue=0.6447181721337569)\n",
      " \n",
      "[4.3292728653016357e-16, 1.7308923021838048e-14, 3.460151687101399e-13, 4.611359386772241e-12, 4.609184217250179e-11, 3.685608059001182e-10, 2.455913043089152e-09, 1.4027169105945857e-08, 7.010276258372471e-08, 3.114208677461481e-07, 1.2450958844416752e-06, 4.525485727498988e-06, 1.5077836881399928e-05, 4.637146059751299e-05, 0.0001324273921915499, 0.0003529731371747097, 0.0008820166010297286, 0.002074354248148718, 0.004607501731474984, 0.009695428171792938, 0.01938170971323513, 0.03690012837587173, 0.06705949573625404, 0.11657019808459582, 0.1941920202368385, 0.31056067236366847, 0.4775602792007355, 0.7071629850638426]\n",
      "[0.6038728132162657, 0.620460133610755, 0.6370656802876326, 0.653666849611142, 0.6702404501931042, 0.6867627520423298, 0.7032095388479525, 0.7195561632582536, 0.7357776049985303, 0.7518485316539664, 0.7677433619264149, 0.7834363311576227, 0.7989015588958158, 0.8141131182678691, 0.829045106905575, 0.8436717191619503, 0.8579673193421391, 0.8719065156634188, 0.885464234650142, 0.8986157956622607, 0.9113369852504293, 0.9236041310266517, 0.9353941747370433, 0.9466847442226003, 0.9574542239549056, 0.9676818238364832, 0.9773476459600394, 0.9864327490271082]\n"
     ]
    },
    {
     "data": {
      "image/png": "[encoded data removed]",
      "text/plain": [
       "<Figure size 432x288 with 1 Axes>"
      ]
     },
     "metadata": {
      "needs_background": "light"
     },
     "output_type": "display_data"
    }
   ],
   "source": [
    "# First we have to import bargraph libraries. so Matplot lib. You do that with the following line:\n",
    "import matplotlib.pyplot as plt\n",
    "\n",
    "from statistics import mean\n",
    "from statistics import variance\n",
    "from statistics import stdev\n",
    "\n",
    "# We now have matplotlib working from this cell forward\n",
    "\n",
    "fig = plt.figure() # This line is needed to create a figure \n",
    "\n",
    "ax = fig.add_axes([0,0,1,1]) # This makes a 2d bar graph\n",
    "\n",
    "ax.set_ylabel('Counts/1 min')\n",
    "\n",
    "ax.set_title('Counts with voltage set at 900V')\n",
    "\n",
    "\n",
    "x_axis = ['24','25','27','28','30','31','32','33','34','35','36','37','38','39','40','41','42','43','44','45','46','47','48','49','50','51','54','55'] # here we have what we want on our x axis # here we have what we want on our x axis\n",
    "\n",
    "for i in range(0, len(x_axis)): \n",
    "    x_axis[i] = int(x_axis[i]) \n",
    "\n",
    "y_axis = [2,1,1,1,5,4,7,7,7,5,5,7,9,11,12,3,14,6,11,9,7,11,6,3,1,1,1,2]\n",
    "\n",
    "#ax.bar(x_axis,y_axis) # the .bar() creates the bar graph\n",
    "\n",
    "#plt.show() # finally this command, shows the plot\n",
    "\n",
    "new_list = []\n",
    "count = 0\n",
    "for y in y_axis:\n",
    "    print(y)\n",
    "    for i in range(y):\n",
    "        new_list.append(x_axis[count])\n",
    "    count = count +1\n",
    "\n",
    "print(new_list)\n",
    "\n",
    "print(len(new_list))\n",
    "\n",
    "\n",
    "print(\"Mean is\", mean(new_list))\n",
    "\n",
    "print(\"Variance is\", variance(new_list))\n",
    "\n",
    "print(\"Standard Deviation is \", stdev(new_list))\n",
    "\n",
    "from scipy.stats import chisquare\n",
    "\n",
    "print(\"Chi Square is\", chisquare(new_list))\n",
    "\n",
    "print(\" \")\n",
    "\n",
    "from math import factorial\n",
    "from math import exp\n",
    "\n",
    "poisson_pts = []\n",
    "\n",
    "for x in range(28):\n",
    "    y = (  (mean(new_list)**x)    *    (exp(-1*mean(new_list)))    ) / (factorial(x))\n",
    "    y = y*100\n",
    "    poisson_pts.append(y)\n",
    "print(poisson_pts)\n",
    "\n",
    "\n",
    "#54564563435234tegshdgfhsdfgsdfgsd\n",
    "from math import sqrt\n",
    "from math import pi\n",
    "gaussian_pts = []\n",
    "for x in range(28):\n",
    "    y = ((1) / ( (variance(new_list)  * sqrt(2 * pi) ))) * exp( (-1*(1/2))* ((x-mean(new_list))/(variance(new_list)))**2 )\n",
    "    y = y*100\n",
    "    gaussian_pts.append(y)\n",
    "print(gaussian_pts)\n",
    "\n",
    "ax.plot(x_axis,gaussian_pts, color='red',linestyle='solid')\n",
    "#sdfgsdrhsrddfdrgs\n",
    "ax.bar(x_axis,y_axis) # the .bar() creates the bar graph\n",
    "\n",
    "ax.plot(x_axis, poisson_pts,linestyle='solid',color='green')\n",
    "\n",
    "plt.show() # finally this command, shows the plot\n",
    "\n",
    "\n",
    "\n"
   ]
  },
  {
   "cell_type": "code",
   "execution_count": 105,
   "metadata": {},
   "outputs": [
    {
     "data": {
      "image/png": "[encoded data removed]",
      "text/plain": [
       "<Figure size 432x288 with 1 Axes>"
      ]
     },
     "metadata": {
      "needs_background": "light"
     },
     "output_type": "display_data"
    }
   ],
   "source": [
    "import numpy as np\n",
    "from scipy.stats import norm\n",
    "import matplotlib.pyplot as plt\n",
    "\n",
    "\n",
    "# Generate some data for this demonstration.\n",
    "data = new_list\n",
    "\n",
    "# Fit a normal distribution to the data:\n",
    "mu, std = norm.fit(data)\n",
    "\n",
    "# Plot the histogram.\n",
    "plt.hist(data, bins=28, density=True, alpha=0.6, color='g')\n",
    "\n",
    "# Plot the PDF.\n",
    "xmin, xmax = plt.xlim()\n",
    "x = np.linspace(xmin, xmax, 100)\n",
    "p = norm.pdf(x, mu, std)\n",
    "plt.plot(x, p, 'k', linewidth=2)\n",
    "title = \"Fit results: mu = %.2f,  std = %.2f\" % (mu, std)\n",
    "plt.title(title)\n",
    "\n",
    "plt.show()"
   ]
  },
  {
   "cell_type": "code",
   "execution_count": 107,
   "metadata": {},
   "outputs": [
    {
     "name": "stdout",
     "output_type": "stream",
     "text": [
      "1\n",
      "1\n",
      "1\n",
      "1\n",
      "2\n",
      "1\n",
      "2\n",
      "1\n",
      "1\n",
      "2\n",
      "1\n",
      "1\n",
      "4\n",
      "2\n",
      "1\n",
      "2\n",
      "1\n",
      "2\n",
      "2\n",
      "1\n",
      "1\n",
      "1\n",
      "1\n",
      "1\n",
      "[343, 358, 363, 364, 367, 367, 371, 372, 372, 373, 374, 377, 377, 379, 380, 382, 382, 382, 382, 392, 392, 395, 399, 399, 400, 403, 403, 404, 404, 412, 414, 417, 421, 432]\n",
      "34\n",
      "Mean is 386.8235294117647\n",
      "Variance is 401.8467023172906\n",
      "Standard Deviation is  20.046114394497767\n",
      "Chi Square is Power_divergenceResult(statistic=34.2816301703163, pvalue=0.4060657661252099)\n",
      " \n",
      "[1.0108243754357722e-166, 3.910106525215081e-164, 7.562606032298344e-162, 9.751313189881159e-160, 9.430093461273308e-158, 7.295564070745092e-156, 4.703493071492129e-154, 2.599173986397668e-152, 1.2567770687169898e-150, 5.401677126720867e-149, 2.089495810900965e-147, 7.347874038761896e-146, 2.3686088077891294e-144, 7.047950914036794e-143, 1.9473666054918465e-141, 5.021914822633091e-140, 1.2141217600601179e-138, 2.762652143306345e-137, 5.936993625615203e-136, 1.2087204359766432e-134, 2.3378075255830604e-133, 4.3062807530067804e-132, 7.571685088709248e-131, 1.273437369395192e-129]\n",
      "[0.06246477233084999, 0.06261439076544392, 0.06276397889392075, 0.06291353478896552, 0.0630630565192644, 0.06321254214954303, 0.06336198974060511, 0.06351139734937121, 0.06366076302891777, 0.06381008482851622, 0.06395936079367262, 0.06410858896616711, 0.06425776738409385, 0.06440689408190103, 0.06455596709043115, 0.06470498443696153, 0.06485394414524487, 0.06500284423555022, 0.06515168272470406, 0.06530045762613149, 0.06544916694989777, 0.06559780870275, 0.065746380888159, 0.06589488150636127]\n"
     ]
    },
    {
     "data": {
      "image/png": "[encoded data removed]",
      "text/plain": [
       "<Figure size 432x288 with 1 Axes>"
      ]
     },
     "metadata": {
      "needs_background": "light"
     },
     "output_type": "display_data"
    }
   ],
   "source": [
    "# First we have to import bargraph libraries. so Matplot lib. You do that with the following line:\n",
    "import matplotlib.pyplot as plt\n",
    "\n",
    "from statistics import mean\n",
    "from statistics import variance\n",
    "from statistics import stdev\n",
    "\n",
    "# We now have matplotlib working from this cell forward\n",
    "\n",
    "fig = plt.figure() # This line is needed to create a figure \n",
    "\n",
    "ax = fig.add_axes([0,0,1,1]) # This makes a 2d bar graph\n",
    "\n",
    "ax.set_ylabel('Counts/10 min')\n",
    "\n",
    "ax.set_title('Counts with voltage set at 900V')\n",
    "\n",
    "\n",
    "x_axis = ['343','358','363','364','367','371','372','373','374','377','379','380','382','392','395','399','400','403','404','412','414','417','421','432'] # here we have what we want on our x axis\n",
    "\n",
    "for i in range(0, len(x_axis)): \n",
    "    x_axis[i] = int(x_axis[i]) \n",
    "\n",
    "y_axis = [1,1,1,1,2,1,2,1,1,2,1,1,4,2,1,2,1,2,2,1,1,1,1,1] # and here we have what we want on our y axis\n",
    "\n",
    "#ax.bar(x_axis,y_axis) # the .bar() creates the bar graph\n",
    "\n",
    "#plt.show() # finally this command, shows the plot\n",
    "\n",
    "new_list = []\n",
    "count = 0\n",
    "for y in y_axis:\n",
    "    print(y)\n",
    "    for i in range(y):\n",
    "        new_list.append(x_axis[count])\n",
    "    count = count +1\n",
    "\n",
    "print(new_list)\n",
    "\n",
    "print(len(new_list))\n",
    "\n",
    "\n",
    "print(\"Mean is\", mean(new_list))\n",
    "\n",
    "print(\"Variance is\", variance(new_list))\n",
    "\n",
    "print(\"Standard Deviation is \", stdev(new_list))\n",
    "\n",
    "from scipy.stats import chisquare\n",
    "\n",
    "print(\"Chi Square is\", chisquare(new_list))\n",
    "\n",
    "print(\" \")\n",
    "\n",
    "from math import factorial\n",
    "from math import exp\n",
    "\n",
    "poisson_pts = []\n",
    "\n",
    "for x in range(24):\n",
    "    y = (  (mean(new_list)**x)    *    (exp(-1*mean(new_list)))    ) / (factorial(x))\n",
    "    y = y*100\n",
    "    poisson_pts.append(y)\n",
    "print(poisson_pts)\n",
    "\n",
    "\n",
    "#54564563435234tegshdgfhsdfgsdfgsd\n",
    "from math import sqrt\n",
    "from math import pi\n",
    "gaussian_pts = []\n",
    "for x in range(24):\n",
    "    y = ((1) / ( (variance(new_list)  * sqrt(2 * pi) ))) * exp( (-1*(1/2))* ((x-mean(new_list))/(variance(new_list)))**2 )\n",
    "    y = y*100\n",
    "    gaussian_pts.append(y)\n",
    "print(gaussian_pts)\n",
    "\n",
    "ax.plot(x_axis,gaussian_pts, color='red',linestyle='solid')\n",
    "#sdfgsdrhsrddfdrgs\n",
    "ax.bar(x_axis,y_axis) # the .bar() creates the bar graph\n",
    "\n",
    "ax.plot(x_axis, poisson_pts,linestyle='solid',color='green')\n",
    "\n",
    "plt.show() # finally this command, shows the plot\n"
   ]
  },
  {
   "cell_type": "code",
   "execution_count": 108,
   "metadata": {},
   "outputs": [
    {
     "data": {
      "image/png": "[encoded data removed]",
      "text/plain": [
       "<Figure size 432x288 with 1 Axes>"
      ]
     },
     "metadata": {
      "needs_background": "light"
     },
     "output_type": "display_data"
    }
   ],
   "source": [
    "import numpy as np\n",
    "from scipy.stats import norm\n",
    "import matplotlib.pyplot as plt\n",
    "\n",
    "\n",
    "# Bins chosen with sturges rule https://www.statisticshowto.com/choose-bin-sizes-statistics/\n",
    "\n",
    "# Generate some data for this demonstration.\n",
    "data = new_list\n",
    "\n",
    "# Fit a normal distribution to the data:\n",
    "mu, std = norm.fit(data)\n",
    "\n",
    "# Plot the histogram.\n",
    "plt.hist(data, bins=6, density=True, alpha=0.6, color='g')\n",
    "\n",
    "# Plot the PDF.\n",
    "xmin, xmax = plt.xlim()\n",
    "x = np.linspace(xmin, xmax, 100)\n",
    "p = norm.pdf(x, mu, std)\n",
    "plt.plot(x, p, 'k', linewidth=2)\n",
    "title = \"Fit results: mu = %.2f,  std = %.2f\" % (mu, std)\n",
    "plt.title(title)\n",
    "\n",
    "plt.show()"
   ]
  },
  {
   "cell_type": "code",
   "execution_count": null,
   "metadata": {},
   "outputs": [],
   "source": []
  }
 ],
 "metadata": {
  "kernelspec": {
   "display_name": "Python 3",
   "language": "python",
   "name": "python3"
  },
  "language_info": {
   "codemirror_mode": {
    "name": "ipython",
    "version": 3
   },
   "file_extension": ".py",
   "mimetype": "text/x-python",
   "name": "python",
   "nbconvert_exporter": "python",
   "pygments_lexer": "ipython3",
   "version": "3.7.3"
  }
 },
 "nbformat": 4,
 "nbformat_minor": 2
}
